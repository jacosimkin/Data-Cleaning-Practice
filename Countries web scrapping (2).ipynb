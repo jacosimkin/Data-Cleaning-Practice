{
 "cells": [
  {
   "cell_type": "markdown",
   "id": "034fb6cc",
   "metadata": {},
   "source": [
    "## Importing required libraries."
   ]
  },
  {
   "cell_type": "code",
   "execution_count": null,
   "id": "e0cc68ff",
   "metadata": {},
   "outputs": [],
   "source": [
    "import requests\n",
    "from bs4 import BeautifulSoup\n",
    "from csv import writer"
   ]
  },
  {
   "cell_type": "markdown",
   "id": "25da18cd",
   "metadata": {},
   "source": [
    "### Creating the URL variable and requesting  the url we are using."
   ]
  },
  {
   "cell_type": "code",
   "execution_count": null,
   "id": "56543a4d",
   "metadata": {},
   "outputs": [],
   "source": [
    "URL = \"https://www.scrapethissite.com/pages/simple/\"\n",
    "r = requests.get(URL)\n",
    "print(r.content)"
   ]
  },
  {
   "cell_type": "markdown",
   "id": "d2fb1e41",
   "metadata": {},
   "source": [
    "### Using BeautifylSoup to access the html and the \"class\" for each categorie"
   ]
  },
  {
   "cell_type": "code",
   "execution_count": null,
   "id": "b531e724",
   "metadata": {},
   "outputs": [],
   "source": [
    "soup = BeautifulSoup(r.content, 'html5lib')\n",
    "print(soup.prettify())"
   ]
  },
  {
   "cell_type": "code",
   "execution_count": null,
   "id": "5adf1614",
   "metadata": {},
   "outputs": [],
   "source": [
    "soup1 = BeautifulSoup(r.content, 'html.parser')"
   ]
  },
  {
   "cell_type": "code",
   "execution_count": null,
   "id": "a9ec6708",
   "metadata": {},
   "outputs": [],
   "source": [
    "lists = soup.find_all('div',class_=\"col-md-4 country\")"
   ]
  },
  {
   "cell_type": "code",
   "execution_count": null,
   "id": "115ecf88",
   "metadata": {},
   "outputs": [],
   "source": [
    "lists"
   ]
  },
  {
   "cell_type": "markdown",
   "id": "332d21a3",
   "metadata": {},
   "source": [
    "### Saving it as a csv file with access to the file.Also, replacing the separators."
   ]
  },
  {
   "cell_type": "code",
   "execution_count": null,
   "id": "ec403601",
   "metadata": {},
   "outputs": [],
   "source": [
    "with open('countries.csv','w', encoding='utf8',newline=\"\") as f:\n",
    "    thewriter=writer(f)\n",
    "    header=['country_name','capital','population','Area_km2']\n",
    "    thewriter.writerow(header)\n",
    "    for list in lists:\n",
    "        country_name = list.find('h3', class_=\"country-name\").text.replace('\\n', '')\n",
    "        capital= list.find('span', class_=\"country-capital\").text.replace('\\n', '')\n",
    "        population=list.find('span',class_=\"country-population\").text.replace('\\n', '')\n",
    "        Area_km2=list.find('span',class_=\"country-area\").text.replace('\\n', '')\n",
    "        info=[country_name,capital,population,Area_km2]\n",
    "        thewriter.writerow(info)"
   ]
  },
  {
   "cell_type": "markdown",
   "id": "04f3d19b",
   "metadata": {},
   "source": [
    "### The file is now saved as a csv file!"
   ]
  },
  {
   "cell_type": "code",
   "execution_count": null,
   "id": "74ca5e17",
   "metadata": {},
   "outputs": [],
   "source": []
  }
 ],
 "metadata": {
  "kernelspec": {
   "display_name": "Python 3 (ipykernel)",
   "language": "python",
   "name": "python3"
  },
  "language_info": {
   "codemirror_mode": {
    "name": "ipython",
    "version": 3
   },
   "file_extension": ".py",
   "mimetype": "text/x-python",
   "name": "python",
   "nbconvert_exporter": "python",
   "pygments_lexer": "ipython3",
   "version": "3.9.12"
  }
 },
 "nbformat": 4,
 "nbformat_minor": 5
}
