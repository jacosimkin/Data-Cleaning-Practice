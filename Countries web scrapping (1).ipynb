{
 "cells": [
  {
   "cell_type": "markdown",
   "id": "4040dd27",
   "metadata": {},
   "source": [
    "## Importing required libraries."
   ]
  },
  {
   "cell_type": "code",
   "execution_count": null,
   "id": "fc4b1f81",
   "metadata": {},
   "outputs": [],
   "source": [
    "import requests\n",
    "from bs4 import BeautifulSoup\n",
    "from csv import writer"
   ]
  },
  {
   "cell_type": "markdown",
   "id": "7623a695",
   "metadata": {},
   "source": [
    "### creating the URL variable and requesting  the url we are using."
   ]
  },
  {
   "cell_type": "code",
   "execution_count": null,
   "id": "cec8916f",
   "metadata": {},
   "outputs": [],
   "source": [
    "URL = \"https://www.scrapethissite.com/pages/simple/\"\n",
    "r = requests.get(URL)\n",
    "print(r.content)"
   ]
  },
  {
   "cell_type": "markdown",
   "id": "9d50afa6",
   "metadata": {},
   "source": [
    "### using BeautifylSoup to access the html and the \"class\" for each categorie"
   ]
  },
  {
   "cell_type": "code",
   "execution_count": null,
   "id": "88185ac7",
   "metadata": {},
   "outputs": [],
   "source": [
    "soup = BeautifulSoup(r.content, 'html5lib')\n",
    "print(soup.prettify())"
   ]
  },
  {
   "cell_type": "code",
   "execution_count": null,
   "id": "ebb4ec0c",
   "metadata": {},
   "outputs": [],
   "source": [
    "soup1 = BeautifulSoup(r.content, 'html.parser')"
   ]
  },
  {
   "cell_type": "code",
   "execution_count": null,
   "id": "7f0c7041",
   "metadata": {},
   "outputs": [],
   "source": [
    "lists = soup.find_all('div',class_=\"col-md-4 country\")"
   ]
  },
  {
   "cell_type": "code",
   "execution_count": null,
   "id": "7ceb3dff",
   "metadata": {},
   "outputs": [],
   "source": [
    "lists"
   ]
  },
  {
   "cell_type": "markdown",
   "id": "aa2a7eb5",
   "metadata": {},
   "source": [
    "### Saving it as a csv file with access to the file.Also, replacing the separators."
   ]
  },
  {
   "cell_type": "code",
   "execution_count": null,
   "id": "b48bac1a",
   "metadata": {},
   "outputs": [],
   "source": [
    "with open('countries.csv','w', encoding='utf8',newline=\"\") as f:\n",
    "    thewriter=writer(f)\n",
    "    header=['country_name','capital','population','Area_km2']\n",
    "    thewriter.writerow(header)\n",
    "    for list in lists:\n",
    "        country_name = list.find('h3', class_=\"country-name\").text.replace('\\n', '')\n",
    "        capital= list.find('span', class_=\"country-capital\").text.replace('\\n', '')\n",
    "        population=list.find('span',class_=\"country-population\").text.replace('\\n', '')\n",
    "        Area_km2=list.find('span',class_=\"country-area\").text.replace('\\n', '')\n",
    "        info=[country_name,capital,population,Area_km2]\n",
    "        thewriter.writerow(info)"
   ]
  },
  {
   "cell_type": "markdown",
   "id": "7e171c9d",
   "metadata": {},
   "source": [
    "### The file now is saved as a csv file!"
   ]
  },
  {
   "cell_type": "code",
   "execution_count": null,
   "id": "7d950f83",
   "metadata": {},
   "outputs": [],
   "source": []
  }
 ],
 "metadata": {
  "kernelspec": {
   "display_name": "Python 3 (ipykernel)",
   "language": "python",
   "name": "python3"
  },
  "language_info": {
   "codemirror_mode": {
    "name": "ipython",
    "version": 3
   },
   "file_extension": ".py",
   "mimetype": "text/x-python",
   "name": "python",
   "nbconvert_exporter": "python",
   "pygments_lexer": "ipython3",
   "version": "3.9.12"
  }
 },
 "nbformat": 4,
 "nbformat_minor": 5
}
